{
 "cells": [
  {
   "cell_type": "markdown",
   "metadata": {},
   "source": [
    "# Exploring the case data"
   ]
  },
  {
   "cell_type": "markdown",
   "metadata": {
    "deletable": false,
    "editable": false,
    "nbgrader": {
     "grade": false,
     "locked": true,
     "solution": false
    }
   },
   "source": [
    "Let's start by loading the dataset:"
   ]
  },
  {
   "cell_type": "code",
   "execution_count": 1,
   "metadata": {
    "collapsed": true,
    "deletable": false,
    "editable": false,
    "nbgrader": {
     "grade": false,
     "locked": true,
     "solution": false
    }
   },
   "outputs": [],
   "source": [
    "##### added line to ensure plots are showing\n",
    "%matplotlib inline\n",
    "#####\n",
    "\n",
    "import numpy as np\n",
    "import matplotlib.pyplot as plt\n",
    "import pandas as pd\n",
    "\n",
    "# Use this code if you need large figures (on high-resolution screens)\n",
    "# For bigger pictures:\n",
    "#plt.rcParams[\"figure.dpi\"] = 144\n",
    "\n",
    "np.random.seed(40)\n",
    "\n",
    "data = pd.read_csv(\"churn.csv\",sep=',',index_col=0)\n",
    "\n",
    "y = data['Churn']\n",
    "X = data.drop('Churn',axis=1)\n",
    "\n",
    "# Outcomment if you want to see all the variables first\n",
    "#print(data.describe(include='all'))"
   ]
  },
  {
   "cell_type": "code",
   "execution_count": null,
   "metadata": {
    "collapsed": true
   },
   "outputs": [],
   "source": [
    "from sklearn.preprocessing import LabelEncoder\n",
    "from sklearn.preprocessing import OneHotEncoder\n",
    "from sklearn.feature_selection import chi2, mutual_info_regression, mutual_info_classif\n",
    "from sklearn.feature_selection import SelectKBest\n",
    "from scipy.stats import chi2_contingency\n",
    "from sklearn.preprocessing import normalize\n",
    "from sklearn.preprocessing import StandardScaler\n",
    "from sklearn.decomposition import PCA"
   ]
  },
  {
   "cell_type": "markdown",
   "metadata": {},
   "source": [
    "## Transforming the variables"
   ]
  },
  {
   "cell_type": "markdown",
   "metadata": {
    "deletable": false,
    "editable": false,
    "nbgrader": {
     "grade": false,
     "locked": true,
     "solution": false
    }
   },
   "source": [
    "First, you need to check which variables need to be transformed into numerical form so we can process them with the appropriate feature selection techniques. \n",
    "\n",
    "TIP: You don't need to include the dependent variable 'Churn' as we will do this later. Check the dataset, and use the following function to fill in your answers:"
   ]
  },
  {
   "cell_type": "markdown",
   "metadata": {},
   "source": [
    "### Finding the variables"
   ]
  },
  {
   "cell_type": "code",
   "execution_count": null,
   "metadata": {
    "collapsed": true
   },
   "outputs": [],
   "source": [
    "# the list should contain the variable's string name (as found in X.colummns)\n",
    "def return_variables_to_be_converted_or_removed():\n",
    "    to_convert = []\n",
    "    to_remove = []\n",
    "    \n",
    "    feature_names = X.columns\n",
    "    to_convert.extend(feature_names[[1,3,4]])\n",
    "    to_convert = to_convert\n",
    "    to_remove.append(feature_names[2])\n",
    "    \n",
    "    return to_convert, to_remove\n",
    "\n",
    "X_copy = X.copy()\n",
    "return_variables_to_be_converted_or_removed()\n",
    "to_convert, to_remove = return_variables_to_be_converted_or_removed()"
   ]
  },
  {
   "cell_type": "code",
   "execution_count": 3,
   "metadata": {
    "collapsed": true,
    "deletable": false,
    "editable": false,
    "nbgrader": {
     "grade": true,
     "grade_id": "check_conversion_set",
     "locked": true,
     "points": "3",
     "schema_version": 1,
     "solution": false
    }
   },
   "outputs": [],
   "source": [
    "###\n",
    "### AUTOGRADER TEST - DO NOT REMOVE\n",
    "###\n"
   ]
  },
  {
   "cell_type": "markdown",
   "metadata": {},
   "source": [
    "### Coverting and removing variables"
   ]
  },
  {
   "cell_type": "markdown",
   "metadata": {
    "deletable": false,
    "editable": false,
    "nbgrader": {
     "grade": false,
     "locked": true,
     "solution": false
    }
   },
   "source": [
    "Now, do the actual conversion and removal. Make sure your X matrix remains a pandas dataframe, and that you use pandas to do the conversion as well (use the variable's name as prefix and the uniques values to label the new variables):"
   ]
  },
  {
   "cell_type": "code",
   "execution_count": 4,
   "metadata": {
    "collapsed": true,
    "nbgrader": {
     "grade": false,
     "grade_id": "conversion",
     "locked": false,
     "schema_version": 1,
     "solution": true
    }
   },
   "outputs": [],
   "source": [
    "def convert_and_remove_categorical_variables(X, to_convert, to_remove):\n",
    "        \n",
    "    for i in to_remove:        \n",
    "        X = X.drop(columns = i)\n",
    "    X_1 = pd.get_dummies(X, columns = ['Area_Code','International_Plan', 'Voice_mail_Plan'], drop_first = True)\n",
    "    \n",
    "    return X_1\n",
    "\n",
    "X = convert_and_remove_categorical_variables(X_copy, to_convert, to_remove)\n",
    "convert_and_remove_categorical_variables(X_copy, to_convert, to_remove)"
   ]
  },
  {
   "cell_type": "markdown",
   "metadata": {
    "deletable": false,
    "editable": false,
    "nbgrader": {
     "grade": false,
     "locked": true,
     "solution": false
    }
   },
   "source": [
    "Verify your answer:"
   ]
  },
  {
   "cell_type": "code",
   "execution_count": 5,
   "metadata": {
    "collapsed": true,
    "deletable": false,
    "editable": false,
    "nbgrader": {
     "grade": true,
     "grade_id": "verify_conversion",
     "locked": true,
     "points": "5",
     "schema_version": 1,
     "solution": false
    }
   },
   "outputs": [],
   "source": [
    "###\n",
    "### AUTOGRADER TEST - DO NOT REMOVE\n",
    "###\n"
   ]
  },
  {
   "cell_type": "markdown",
   "metadata": {
    "deletable": false,
    "editable": false,
    "nbgrader": {
     "grade": false,
     "locked": true,
     "solution": false
    }
   },
   "source": [
    "As promised, we will do the dependent variable separately:"
   ]
  },
  {
   "cell_type": "code",
   "execution_count": 6,
   "metadata": {
    "collapsed": true,
    "deletable": false,
    "editable": false,
    "nbgrader": {
     "grade": false,
     "locked": true,
     "solution": false
    }
   },
   "outputs": [],
   "source": [
    "from sklearn.preprocessing import LabelEncoder\n",
    "\n",
    "encoder = LabelEncoder()    \n",
    "y = encoder.fit_transform(y)"
   ]
  },
  {
   "cell_type": "markdown",
   "metadata": {
    "deletable": false,
    "editable": false,
    "nbgrader": {
     "grade": false,
     "locked": true,
     "solution": false
    }
   },
   "source": [
    "## Filter methods"
   ]
  },
  {
   "cell_type": "markdown",
   "metadata": {
    "deletable": false,
    "editable": false,
    "nbgrader": {
     "grade": false,
     "locked": true,
     "solution": false
    }
   },
   "source": [
    "Now we are good to go. Let's now discover what the filter methods are telling us. Implement various filter methods and, based on their feedback, you can propose which variables you think are the most and least important:"
   ]
  },
  {
   "cell_type": "markdown",
   "metadata": {
    "deletable": false,
    "editable": false,
    "nbgrader": {
     "grade": false,
     "locked": true,
     "solution": false
    }
   },
   "source": [
    "Now, based on using a few feature selection techniques, mutual information and $\\chi^2$, which variables would you remove, and which ones would you retain?\n",
    "\n",
    "Remove all the ones that are below the mean of all scores of the features for the certain metric, and retain the ones that are above the mean, even for just one metric. Make sure you normalise first."
   ]
  },
  {
   "cell_type": "code",
   "execution_count": 7,
   "metadata": {
    "collapsed": true,
    "nbgrader": {
     "grade": false,
     "grade_id": "cell-cf916a681ea47da1",
     "locked": false,
     "schema_version": 1,
     "solution": true
    }
   },
   "outputs": [],
   "source": [
    "# the sets should contain the variable's string name (as found in X.colummns)\n",
    "def return_variables_to_be_retained_or_removed(X_converted):\n",
    "    to_retain = set()           \n",
    "    to_remove = set()\n",
    "    from sklearn.feature_selection import chi2, mutual_info_regression, mutual_info_classif\n",
    "    from sklearn.feature_selection import SelectKBest\n",
    "    from scipy.stats import chi2_contingency\n",
    "    from sklearn.preprocessing import normalize\n",
    "    from sklearn.preprocessing import StandardScaler\n",
    "    np.random.seed(40)\n",
    "    print(\"Chi-squared:\")\n",
    "    X_2 = normalize(X_converted)\n",
    "    \n",
    "    selected_features = SelectKBest(chi2, k=18).fit(X_2, y)\n",
    "    average_chi2 = np.average(selected_features.scores_)\n",
    "\n",
    "\n",
    "    m = 0\n",
    "    selected_features_column_no = []\n",
    "    for i in selected_features.scores_:\n",
    "        if i > average_chi2:\n",
    "            selected_features_column_no.append(m)\n",
    "        m += 1\n",
    "\n",
    "    print(\"Mutual information:\")\n",
    "    # Mutual information (for regression)\n",
    "    selected_features_info = SelectKBest(mutual_info_classif, k=18).fit(X_2, y)\n",
    "    average_mutual_info = np.average(selected_features_info.scores_)\n",
    "\n",
    "    n = 0\n",
    "    selected_features_column_no_1 = []\n",
    "    for i in selected_features_info.scores_:\n",
    "        if i > average_mutual_info:\n",
    "            selected_features_column_no_1.append(n)\n",
    "        n += 1\n",
    "\n",
    "    column_names = X_converted.columns\n",
    "    selected_features_chi2 = []\n",
    "    selected_features_mutualinfo = []\n",
    "    for i in selected_features_column_no:\n",
    "        selected_features_chi2.append(column_names[i])\n",
    "    for i in selected_features_column_no_1:\n",
    "        selected_features_mutualinfo.append(column_names[i])\n",
    "\n",
    "    to_retain = (set(selected_features_chi2) | set(selected_features_mutualinfo))\n",
    "    to_remove = set(np.setdiff1d(X_converted.columns, list(to_retain)))\n",
    "\n",
    "    return to_retain\n",
    "\n"
   ]
  },
  {
   "cell_type": "code",
   "execution_count": 8,
   "metadata": {
    "collapsed": true,
    "deletable": false,
    "editable": false,
    "nbgrader": {
     "grade": true,
     "grade_id": "verify_variable_check",
     "locked": true,
     "points": "6",
     "schema_version": 1,
     "solution": false
    }
   },
   "outputs": [],
   "source": [
    "###\n",
    "### AUTOGRADER TEST - DO NOT REMOVE\n",
    "###\n"
   ]
  },
  {
   "cell_type": "markdown",
   "metadata": {
    "deletable": false,
    "editable": false,
    "nbgrader": {
     "grade": false,
     "locked": true,
     "solution": false
    }
   },
   "source": [
    "## PCA "
   ]
  },
  {
   "cell_type": "markdown",
   "metadata": {
    "deletable": false,
    "editable": false,
    "nbgrader": {
     "grade": false,
     "locked": true,
     "solution": false
    }
   },
   "source": [
    "Next, let's see what PCA tells us:"
   ]
  },
  {
   "cell_type": "code",
   "execution_count": null,
   "metadata": {
    "collapsed": true,
    "deletable": false,
    "editable": false,
    "nbgrader": {
     "grade": false,
     "locked": true,
     "solution": false
    }
   },
   "outputs": [],
   "source": [
    "from sklearn.decomposition import PCA\n",
    "from sklearn.preprocessing import normalize\n",
    "\n",
    "X_norm = normalize(X)\n",
    "pca = PCA()\n",
    "pca.fit(X_norm)\n",
    "\n",
    "plt.plot(range(1,len(pca.components_)+1),pca.explained_variance_ratio_,'-o')\n",
    "plt.xlabel('components')\n",
    "plt.ylabel('% explained variance')\n",
    "plt.title(\"Scree plot\")\n",
    "plt.show()"
   ]
  },
  {
   "cell_type": "markdown",
   "metadata": {
    "deletable": false,
    "editable": false,
    "nbgrader": {
     "grade": false,
     "locked": true,
     "solution": false
    }
   },
   "source": [
    "Check, for the 5 most interesting components, which variables have a weight higher than 0.1:"
   ]
  },
  {
   "cell_type": "markdown",
   "metadata": {},
   "source": [
    "### Select based on PCA"
   ]
  },
  {
   "cell_type": "code",
   "execution_count": null,
   "metadata": {
    "collapsed": true,
    "nbgrader": {
     "grade": false,
     "grade_id": "find_pca_variables",
     "locked": false,
     "schema_version": 1,
     "solution": true
    }
   },
   "outputs": [],
   "source": [
    "# the set should contain the variable's string name (as found in X.colummns)\n",
    "def find_pca_variables(X_converted):\n",
    "    interesting_variables = set()\n",
    "    \n",
    "    from sklearn.decomposition import PCA\n",
    "    from sklearn.preprocessing import normalize\n",
    "    threshold = 0.1\n",
    "    length_pca_component = 5\n",
    "    X_norm = normalize(X_converted)\n",
    "    pca = PCA()\n",
    "    pca.fit(X_norm)\n",
    "    component = pca.components_[0:length_pca_component]\n",
    "\n",
    "    variables = []\n",
    "    weights = []\n",
    "    weights1 = []\n",
    "    \n",
    "    feature_names = X_converted.columns\n",
    "\n",
    "    for i in range(len(component)):\n",
    "        k=0\n",
    "        for j in (component[i]):\n",
    "            \n",
    "            if j > threshold or j < -threshold:\n",
    "                interesting_variables.add(feature_names[k])            \n",
    "            k+=1\n",
    "        \n",
    "    return interesting_variables\n",
    "    "
   ]
  },
  {
   "cell_type": "code",
   "execution_count": null,
   "metadata": {
    "collapsed": true,
    "deletable": false,
    "editable": false,
    "nbgrader": {
     "grade": false,
     "locked": true,
     "solution": false
    }
   },
   "outputs": [],
   "source": [
    "find_pca_variables(X.copy())"
   ]
  },
  {
   "cell_type": "code",
   "execution_count": null,
   "metadata": {
    "collapsed": true,
    "deletable": false,
    "editable": false,
    "nbgrader": {
     "grade": true,
     "grade_id": "check_pca",
     "locked": true,
     "points": "8",
     "schema_version": 1,
     "solution": false
    }
   },
   "outputs": [],
   "source": [
    "###\n",
    "### AUTOGRADER TEST - DO NOT REMOVE\n",
    "###\n"
   ]
  }
 ],
 "metadata": {
  "celltoolbar": "Create Assignment",
  "kernelspec": {
   "display_name": "Python 3",
   "language": "python",
   "name": "python3"
  },
  "language_info": {
   "codemirror_mode": {
    "name": "ipython",
    "version": 3
   },
   "file_extension": ".py",
   "mimetype": "text/x-python",
   "name": "python",
   "nbconvert_exporter": "python",
   "pygments_lexer": "ipython3",
   "version": "3.6.2"
  }
 },
 "nbformat": 4,
 "nbformat_minor": 2
}
